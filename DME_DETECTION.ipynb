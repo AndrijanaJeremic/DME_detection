{
 "cells": [
  {
   "cell_type": "markdown",
   "metadata": {},
   "source": [
    "# DME DETECTION"
   ]
  },
  {
   "cell_type": "code",
   "execution_count": 1,
   "metadata": {},
   "outputs": [],
   "source": [
    "import os\n",
    "import numpy as np\n",
    "import cv2 # OpenCV\n",
    "from sklearn.svm import SVC # SVM klasifikator\n",
    "from sklearn.metrics import accuracy_score\n",
    "from sklearn.model_selection import train_test_split\n",
    "from sklearn.neighbors import KNeighborsClassifier # KNN\n",
    "from sklearn.ensemble import RandomForestClassifier #RF klasifikator\n",
    "import matplotlib.pyplot as plt\n",
    "import skimage as sk\n",
    "from skimage import transform\n",
    "from skimage import util\n",
    "from skimage import io\n",
    "import random\n",
    "from scipy import ndarray\n",
    "%matplotlib inline"
   ]
  },
  {
   "cell_type": "code",
   "execution_count": 2,
   "metadata": {},
   "outputs": [],
   "source": [
    "def load_image(path):\n",
    "    return cv2.imread(path)\n",
    "\n",
    "def display_image(image):\n",
    "    plt.imshow(image, 'gray')\n",
    "    \n",
    "def image_gray(image):\n",
    "    return cv2.cvtColor(image, cv2.COLOR_RGB2GRAY)\n",
    "\n",
    "def image_bin(image_gs):\n",
    "    height, width = image_gs.shape[0:2]\n",
    "    image_binary = np.ndarray((height, width), dtype=np.uint8)\n",
    "    ret,image_bin = cv2.threshold(image_gs, 200, 255, cv2.THRESH_BINARY)\n",
    "    return image_bin\n",
    "\n",
    "def image_bin_histogram(img):\n",
    "    ret, image_bin = cv2.threshold(img, 80, 1, cv2.THRESH_BINARY)\n",
    "    return image_bin\n",
    "\n",
    "def invert(image):\n",
    "    return 255-image\n",
    "\n",
    "def resize_image(image):\n",
    "    resized_image = sk.transform.resize(image, (100, 100))\n",
    "    rescaled_image = 255 * resized_image\n",
    "    final_image = rescaled_image.astype(np.uint8)\n",
    "    return final_image\n",
    "\n",
    "def resize_image25(image):\n",
    "    resized_image = sk.transform.resize(image, (25, 25))\n",
    "    rescaled_image = 255 * resized_image\n",
    "    final_image = rescaled_image.astype(np.uint8)\n",
    "    return final_image\n",
    "\n",
    "def resize_imageX(image, x):\n",
    "    resized_image = sk.transform.resize(image, (x, x))\n",
    "    rescaled_image = 255 * resized_image\n",
    "    final_image = rescaled_image.astype(np.uint8)\n",
    "    return final_image\n",
    "\n",
    "def random_rotation(img):\n",
    "    random_degree = random.uniform(10, 180)\n",
    "    return sk.transform.rotate(img, random_degree)\n",
    "\n",
    "def increase_brightness(img):\n",
    "    hsv = cv2.cvtColor(img, cv2.COLOR_BGR2HSV)\n",
    "    h, s, v = cv2.split(hsv)\n",
    "    \n",
    "    value = random.randint(0, 100)\n",
    "    lim = 255 - value\n",
    "    v[v > lim] = 255\n",
    "    v[v <= lim] += value\n",
    "\n",
    "    final_hsv = cv2.merge((h, s, v))\n",
    "    img = cv2.cvtColor(final_hsv, cv2.COLOR_HSV2BGR)\n",
    "    return img\n",
    "\n",
    "def reshape_data(input_data):\n",
    "    nsamples, nx, ny = input_data.shape\n",
    "    return input_data.reshape((nsamples, nx*ny))"
   ]
  },
  {
   "cell_type": "markdown",
   "metadata": {},
   "source": [
    "# Učitavanje trening skupa slika"
   ]
  },
  {
   "cell_type": "code",
   "execution_count": 3,
   "metadata": {
    "scrolled": false
   },
   "outputs": [
    {
     "name": "stderr",
     "output_type": "stream",
     "text": [
      "E:\\Anaconda\\lib\\site-packages\\skimage\\transform\\_warps.py:84: UserWarning: The default mode, 'constant', will be changed to 'reflect' in skimage 0.15.\n",
      "  warn(\"The default mode, 'constant', will be changed to 'reflect' in \"\n"
     ]
    },
    {
     "name": "stdout",
     "output_type": "stream",
     "text": [
      "Normal images #:  242\n",
      "DME images #:  242\n"
     ]
    }
   ],
   "source": [
    "train_dir_dme = 'images/TRAIN/DME'\n",
    "train_dir_normal = 'images/TRAIN/NORMAL'\n",
    "\n",
    "nor_imgs = []\n",
    "dme_imgs = []\n",
    "\n",
    "folder_path = 'images/edited'\n",
    "\n",
    "for img_name in os.listdir(train_dir_normal):\n",
    "    img_path = os.path.join(train_dir_normal, img_name)\n",
    "    if 'NORMAL' in img_name:\n",
    "        img = load_image(img_path)\n",
    "        if img.shape[1] != 512:\n",
    "            img=img[:,128:640]\n",
    "        img = img[:, 10:490]\n",
    "        img2 = (image_bin(image_gray(img)))\n",
    "        proba, contours, hierarchy = cv2.findContours(img2.copy(), cv2.RETR_LIST, cv2.CHAIN_APPROX_SIMPLE)\n",
    "        if (len(contours) != 0) :\n",
    "            c = max(contours, key = cv2.contourArea)\n",
    "            x, y, w, h = cv2.boundingRect(c)\n",
    "            visina = y + h/2\n",
    "            if (visina > 0 and visina < 60) or (visina > 400 and visina < 496) :\n",
    "                #cv2.drawContours(img,[c],0,(255,0,0),7)\n",
    "                cv2.fillPoly(img, pts =[c], color=(0,0,0))\n",
    "            elif (h == img.shape[0]):\n",
    "                #cv2.drawContours(img,[c],0,(0,0,255),7)\n",
    "                cv2.fillPoly(img, pts =[c], color=(0,0,0))\n",
    "            elif (h > img.shape[0] / 2):\n",
    "                #cv2.drawContours(img,[c],0,(255,0,255),7)\n",
    "                cv2.fillPoly(img, pts =[c], color=(0,0,0))\n",
    "            elif (x == 0 and y == 0):\n",
    "                #cv2.drawContours(img,[c],0,(255,255,0),7)\n",
    "                cv2.fillPoly(img, pts =[c], color=(0,0,0))\n",
    "            #else:\n",
    "                #cv2.drawContours(img,[c],0,(0,255,0),7)\n",
    "        nor_imgs.append(img)\n",
    "        new_file_path = '%s/%s.jpeg' %(folder_path, img_name[:-5])\n",
    "        img = resize_image(img)\n",
    "        io.imsave(new_file_path, img)\n",
    "    \n",
    "for img_name in os.listdir(train_dir_dme):\n",
    "    img_path = os.path.join(train_dir_dme, img_name)\n",
    "    if 'DME' in img_name:\n",
    "        img = load_image(img_path)\n",
    "        if img.shape[1] != 512:\n",
    "            img=img[:,128:640]\n",
    "        img = img[:, 10:490]\n",
    "        img2 = (image_bin(image_gray(img)))\n",
    "        proba2, contours, hierarchy = cv2.findContours(img2.copy(), cv2.RETR_LIST, cv2.CHAIN_APPROX_SIMPLE)\n",
    "        if (len(contours) != 0) :\n",
    "            c = max(contours, key = cv2.contourArea)\n",
    "            x, y, w, h = cv2.boundingRect(c)\n",
    "            visina = y + h/2\n",
    "            if (visina > 0 and visina < 100) or (visina > 350 and visina < 496) :\n",
    "                #cv2.drawContours(img,[c],0,(255,0,0),7)\n",
    "                cv2.fillPoly(img, pts =[c], color=(0,0,0))\n",
    "            elif (h == img.shape[0]):\n",
    "                #cv2.drawContours(img,[c],0,(0,0,255),7)\n",
    "                cv2.fillPoly(img, pts =[c], color=(0,0,0))\n",
    "            elif (h > img.shape[0] / 2):\n",
    "                #cv2.drawContours(img,[c],0,(255,0,255),7)\n",
    "                cv2.fillPoly(img, pts =[c], color=(0,0,0))\n",
    "            elif (x == 0 and y == 0):\n",
    "                #cv2.drawContours(img,[c],0,(255,255,0),7)\n",
    "                cv2.fillPoly(img, pts =[c], color=(0,0,0))\n",
    "            #else:\n",
    "               # cv2.drawContours(img,[c],0,(0,255,0),7)\n",
    "        dme_imgs.append(img)\n",
    "        new_file_path = '%s/%s.jpeg' %(folder_path, img_name[:-5])\n",
    "        img = resize_image(img)\n",
    "        io.imsave(new_file_path, img)\n",
    "   \n",
    "        \n",
    "print(\"Normal images #: \", len(nor_imgs))\n",
    "print(\"DME images #: \", len(dme_imgs))"
   ]
  },
  {
   "cell_type": "markdown",
   "metadata": {},
   "source": [
    "# Učitavanje test skupa slika"
   ]
  },
  {
   "cell_type": "code",
   "execution_count": 4,
   "metadata": {},
   "outputs": [
    {
     "name": "stderr",
     "output_type": "stream",
     "text": [
      "E:\\Anaconda\\lib\\site-packages\\skimage\\transform\\_warps.py:84: UserWarning: The default mode, 'constant', will be changed to 'reflect' in skimage 0.15.\n",
      "  warn(\"The default mode, 'constant', will be changed to 'reflect' in \"\n"
     ]
    },
    {
     "name": "stdout",
     "output_type": "stream",
     "text": [
      "Normal test images #:  8\n",
      "DME test images #:  8\n"
     ]
    }
   ],
   "source": [
    "test_dir_dme = 'images/TEST/DME'\n",
    "test_dir_normal = 'images/TEST/NORMAL'\n",
    "\n",
    "nor_imgs_test = []\n",
    "dme_imgs_test = []\n",
    "\n",
    "folder_path_test = 'images/edited_test'\n",
    "\n",
    "for img_name in os.listdir(test_dir_normal):\n",
    "    img_path = os.path.join(test_dir_normal, img_name)\n",
    "    if 'NORMAL' in img_name:\n",
    "        img = load_image(img_path)\n",
    "        if img.shape[1] != 512:\n",
    "            img=img[:,128:640]\n",
    "        img = img[:, 10:490]\n",
    "        img2 = (image_bin(image_gray(img)))\n",
    "        proba, contours, hierarchy = cv2.findContours(img2.copy(), cv2.RETR_LIST, cv2.CHAIN_APPROX_SIMPLE)\n",
    "        c = max(contours, key = cv2.contourArea)\n",
    "        x, y, w, h = cv2.boundingRect(c)\n",
    "        visina = y + h/2\n",
    "        if (visina > 0 and visina < 60) or (visina > 400 and visina < 496) :\n",
    "            #cv2.drawContours(img,[c],0,(255,0,0),7)\n",
    "            cv2.fillPoly(img, pts =[c], color=(0,0,0))\n",
    "        new_file_path = '%s/%s.jpeg' %(folder_path_test, img_name[:-5])\n",
    "        img = resize_image(img)\n",
    "        nor_imgs_test.append(img)\n",
    "        io.imsave(new_file_path, img)\n",
    "    \n",
    "for img_name in os.listdir(test_dir_dme):\n",
    "    img_path = os.path.join(test_dir_dme, img_name)\n",
    "    if 'DME' in img_name:\n",
    "        img = load_image(img_path)\n",
    "        if img.shape[1] != 512:\n",
    "            img=img[:,128:640]\n",
    "        img = img[:, 10:490]\n",
    "        img2 = (image_bin(image_gray(img)))\n",
    "        proba2, contours, hierarchy = cv2.findContours(img2.copy(), cv2.RETR_LIST, cv2.CHAIN_APPROX_SIMPLE)\n",
    "        c = max(contours, key = cv2.contourArea)\n",
    "        x, y, w, h = cv2.boundingRect(c)\n",
    "        visina = y + h/2\n",
    "        if (visina > 0 and visina < 100) or (visina > 350 and visina < 496) :\n",
    "            #cv2.drawContours(img,[c],0,(255,0,0),7)\n",
    "            cv2.fillPoly(img, pts =[c], color=(0,0,0))\n",
    "        new_file_path = '%s/%s.jpeg' %(folder_path_test, img_name[:-5])\n",
    "        img = resize_image(img)\n",
    "        dme_imgs_test.append(img)\n",
    "        io.imsave(new_file_path, img)\n",
    "   \n",
    "        \n",
    "print(\"Normal test images #: \", len(nor_imgs_test))\n",
    "print(\"DME test images #: \", len(dme_imgs_test))"
   ]
  },
  {
   "cell_type": "markdown",
   "metadata": {},
   "source": [
    "# Augmentacija slika"
   ]
  },
  {
   "cell_type": "code",
   "execution_count": 5,
   "metadata": {},
   "outputs": [
    {
     "name": "stderr",
     "output_type": "stream",
     "text": [
      "E:\\Anaconda\\lib\\site-packages\\skimage\\util\\dtype.py:122: UserWarning: Possible precision loss when converting from float64 to uint8\n",
      "  .format(dtypeobj_in, dtypeobj_out))\n"
     ]
    },
    {
     "name": "stdout",
     "output_type": "stream",
     "text": [
      "Augmented images normal #:  968\n",
      "Augmented images dme #:  968\n"
     ]
    }
   ],
   "source": [
    "edited_dir = 'images/edited'\n",
    "augmented_dir = 'images/augmented'\n",
    "\n",
    "augmented_imgs_nor = []\n",
    "augmented_imgs_dme = []\n",
    "\n",
    "num_normal = 0\n",
    "num_dme = 0\n",
    "\n",
    "for img_name in os.listdir(edited_dir):\n",
    "    img_path = os.path.join(edited_dir, img_name)\n",
    "    img = load_image(img_path)\n",
    "    \n",
    "    if 'DME' in img_name:\n",
    "        num_dme += 1\n",
    "        augmented_imgs_dme.append(img)\n",
    "        new_file_path = '%s/DME_%s.jpeg' %(augmented_dir, num_dme)\n",
    "        io.imsave(new_file_path, img)\n",
    "    \n",
    "        num_dme += 1\n",
    "        rot_image = random_rotation(img)\n",
    "        new_file_path = '%s/DME_%s.jpeg' %(augmented_dir, num_dme)\n",
    "        io.imsave(new_file_path, rot_image)\n",
    "        rot_image = rot_image.astype(np.uint8)\n",
    "        augmented_imgs_dme.append(rot_image)\n",
    "        \n",
    "        num_dme += 1\n",
    "        bri_image = increase_brightness(img)\n",
    "        augmented_imgs_dme.append(bri_image)\n",
    "        new_file_path = '%s/DME_%s.jpeg' %(augmented_dir, num_dme)\n",
    "        io.imsave(new_file_path, bri_image)\n",
    "        \n",
    "        num_dme += 1\n",
    "        bri_image = increase_brightness(img)\n",
    "        bri_rot_image = random_rotation(bri_image)\n",
    "        new_file_path = '%s/DME_%s.jpeg' %(augmented_dir, num_dme)\n",
    "        io.imsave(new_file_path, bri_rot_image)\n",
    "        bri_rot_image = bri_rot_image.astype(np.uint8)\n",
    "        augmented_imgs_dme.append(bri_rot_image)\n",
    "        \n",
    "    else :\n",
    "        num_normal += 1\n",
    "        augmented_imgs_nor.append(img)\n",
    "        new_file_path = '%s/NORMAL_%s.jpeg' %(augmented_dir, num_normal)\n",
    "        io.imsave(new_file_path, img)\n",
    "    \n",
    "        num_normal += 1\n",
    "        rot_image = random_rotation(img)\n",
    "        new_file_path = '%s/NORMAL_%s.jpeg' %(augmented_dir, num_normal)\n",
    "        io.imsave(new_file_path, rot_image)\n",
    "        rot_image = rot_image.astype(np.uint8)\n",
    "        augmented_imgs_nor.append(rot_image)\n",
    "        \n",
    "        num_normal += 1\n",
    "        bri_image = increase_brightness(img)\n",
    "        augmented_imgs_nor.append(bri_image)\n",
    "        new_file_path = '%s/NORMAL_%s.jpeg' %(augmented_dir, num_normal)\n",
    "        io.imsave(new_file_path, bri_image)\n",
    "        \n",
    "        num_normal += 1\n",
    "        bri_image = increase_brightness(img)\n",
    "        bri_rot_image = random_rotation(bri_image)\n",
    "        new_file_path = '%s/NORMAL_%s.jpeg' %(augmented_dir, num_normal)\n",
    "        io.imsave(new_file_path, bri_rot_image)\n",
    "        bri_rot_image = bri_rot_image.astype(np.uint8)\n",
    "        augmented_imgs_nor.append(bri_rot_image)\n",
    "        \n",
    "print(\"Augmented images normal #: \", len(augmented_imgs_nor))\n",
    "print(\"Augmented images dme #: \", len(augmented_imgs_dme))"
   ]
  },
  {
   "cell_type": "markdown",
   "metadata": {},
   "source": [
    "# HOG deskriptor"
   ]
  },
  {
   "cell_type": "code",
   "execution_count": 6,
   "metadata": {},
   "outputs": [],
   "source": [
    "nbins = 9 # broj binova\n",
    "cell_size = (8, 8) # broj piksela po celiji\n",
    "block_size = (3, 3) # broj celija po bloku\n",
    "\n",
    "hog = cv2.HOGDescriptor(_winSize=(img.shape[1] // cell_size[1] * cell_size[1], \n",
    "                                  img.shape[0] // cell_size[0] * cell_size[0]),\n",
    "                        _blockSize=(block_size[1] * cell_size[1],\n",
    "                                    block_size[0] * cell_size[0]),\n",
    "                        _blockStride=(cell_size[1], cell_size[0]),\n",
    "                        _cellSize=(cell_size[1], cell_size[0]),\n",
    "                        _nbins=nbins)"
   ]
  },
  {
   "cell_type": "markdown",
   "metadata": {},
   "source": [
    "# Trening skup"
   ]
  },
  {
   "cell_type": "code",
   "execution_count": 7,
   "metadata": {},
   "outputs": [
    {
     "name": "stdout",
     "output_type": "stream",
     "text": [
      "Train shape HOG:  (1936, 8100) (1936,)\n"
     ]
    }
   ],
   "source": [
    "pos_features = []\n",
    "neg_features = []\n",
    "labels = []\n",
    "\n",
    "for img in augmented_imgs_dme:\n",
    "    pos_features.append(hog.compute(img))\n",
    "    labels.append(1)\n",
    "\n",
    "for img in augmented_imgs_nor:\n",
    "    neg_features.append(hog.compute(img))\n",
    "    labels.append(0)\n",
    "\n",
    "pos_features = np.array(pos_features)\n",
    "neg_features = np.array(neg_features)\n",
    "x_train = np.vstack((pos_features, neg_features))\n",
    "y_train = np.array(labels)\n",
    "\n",
    "x_train = reshape_data(x_train)\n",
    "print('Train shape HOG: ', x_train.shape, y_train.shape)"
   ]
  },
  {
   "cell_type": "markdown",
   "metadata": {},
   "source": [
    "# Test skup"
   ]
  },
  {
   "cell_type": "code",
   "execution_count": 8,
   "metadata": {},
   "outputs": [
    {
     "name": "stdout",
     "output_type": "stream",
     "text": [
      "Test shape HOG:  (16, 8100) (16,)\n"
     ]
    }
   ],
   "source": [
    "pos_features_test = []\n",
    "neg_features_test = []\n",
    "labels_test = []\n",
    "\n",
    "for img in dme_imgs_test:\n",
    "    pos_features_test.append(hog.compute(img))\n",
    "    labels_test.append(1)\n",
    "\n",
    "for img in nor_imgs_test:\n",
    "    neg_features_test.append(hog.compute(img))\n",
    "    labels_test.append(0)\n",
    "\n",
    "pos_features_test = np.array(pos_features_test)\n",
    "neg_features_test = np.array(neg_features_test)\n",
    "x_test = np.vstack((pos_features_test, neg_features_test))\n",
    "y_test = np.array(labels_test)\n",
    "\n",
    "x_test = reshape_data(x_test)\n",
    "print('Test shape HOG: ', x_test.shape, y_test.shape)"
   ]
  },
  {
   "cell_type": "markdown",
   "metadata": {},
   "source": [
    "# Obučavanje i validacija SVM klasifikatora"
   ]
  },
  {
   "cell_type": "code",
   "execution_count": 24,
   "metadata": {},
   "outputs": [
    {
     "name": "stdout",
     "output_type": "stream",
     "text": [
      "Train accuracy HOG+SVM:  0.8057851239669421\n",
      "Validation accuracy HOG+SVM:  0.9375\n"
     ]
    }
   ],
   "source": [
    "clf_svm = SVC(kernel='linear', probability=True) \n",
    "clf_svm.fit(x_train, y_train)\n",
    "y_train_pred = clf_svm.predict(x_train)\n",
    "y_test_pred = clf_svm.predict(x_test)\n",
    "print(\"Train accuracy HOG+SVM: \", accuracy_score(y_train, y_train_pred))\n",
    "print(\"Validation accuracy HOG+SVM: \", accuracy_score(y_test, y_test_pred))"
   ]
  },
  {
   "cell_type": "markdown",
   "metadata": {},
   "source": [
    "# Obučavanje i validacija KNN klasifikatora"
   ]
  },
  {
   "cell_type": "code",
   "execution_count": 9,
   "metadata": {},
   "outputs": [
    {
     "name": "stdout",
     "output_type": "stream",
     "text": [
      "Train accuracy HOG+KNN:  0.7215909090909091\n",
      "Validation accuracy HOG+KNN:  0.625\n"
     ]
    }
   ],
   "source": [
    "clf_knn = KNeighborsClassifier(n_neighbors=10)\n",
    "clf_knn = clf_knn.fit(x_train, y_train)\n",
    "y_train_pred = clf_knn.predict(x_train)\n",
    "y_test_pred = clf_knn.predict(x_test)\n",
    "print(\"Train accuracy HOG+KNN: \", accuracy_score(y_train, y_train_pred))\n",
    "print(\"Validation accuracy HOG+KNN: \", accuracy_score(y_test, y_test_pred))"
   ]
  },
  {
   "cell_type": "markdown",
   "metadata": {},
   "source": [
    "# RF klasifikator"
   ]
  },
  {
   "cell_type": "code",
   "execution_count": 10,
   "metadata": {},
   "outputs": [
    {
     "name": "stdout",
     "output_type": "stream",
     "text": [
      "Train accuracy HOG+RF:  0.8068181818181818\n",
      "Validation accuracy HOG+RF:  0.9375\n"
     ]
    }
   ],
   "source": [
    "clf_rf_hog = RandomForestClassifier(n_estimators=15)\n",
    "clf_rf_hog = clf_rf_hog.fit(x_train, y_train)\n",
    "y_train_pred = clf_rf_hog.predict(x_train)\n",
    "y_test_pred = clf_rf_hog.predict(x_test)\n",
    "print(\"Train accuracy HOG+RF: \", accuracy_score(y_train, y_train_pred))\n",
    "print(\"Validation accuracy HOG+RF: \", accuracy_score(y_test, y_test_pred))"
   ]
  },
  {
   "cell_type": "markdown",
   "metadata": {},
   "source": [
    "# Trening skup histogrami"
   ]
  },
  {
   "cell_type": "code",
   "execution_count": 19,
   "metadata": {},
   "outputs": [
    {
     "name": "stderr",
     "output_type": "stream",
     "text": [
      "E:\\Anaconda\\lib\\site-packages\\skimage\\transform\\_warps.py:84: UserWarning: The default mode, 'constant', will be changed to 'reflect' in skimage 0.15.\n",
      "  warn(\"The default mode, 'constant', will be changed to 'reflect' in \"\n"
     ]
    },
    {
     "name": "stdout",
     "output_type": "stream",
     "text": [
      "Train shape histograms:  (1936, 100) (1936,)\n"
     ]
    }
   ],
   "source": [
    "pos_his_features = []\n",
    "neg_his_features = []\n",
    "labels_his = []\n",
    "\n",
    "for img in augmented_imgs_dme:\n",
    "    img = resize_imageX(img, 50)\n",
    "    img = image_gray(img)\n",
    "    img_bin = image_bin_histogram(img)\n",
    "    \n",
    "    sumX = np.sum(img_bin, axis=0)\n",
    "    sumY = np.sum(img_bin, axis=1)\n",
    "    sumXY = np.concatenate((sumX, sumY))\n",
    "    \n",
    "    pos_his_features.append(sumXY)\n",
    "    labels_his.append(1)\n",
    "\n",
    "for img in augmented_imgs_nor:\n",
    "    img = resize_imageX(img, 50)\n",
    "    img = image_gray(img)\n",
    "    img_bin = image_bin_histogram(img)\n",
    "    \n",
    "    sumX = np.sum(img_bin, axis=0)\n",
    "    sumY = np.sum(img_bin, axis=1)\n",
    "    sumXY = np.concatenate((sumX, sumY))\n",
    "    \n",
    "    neg_his_features.append(sumXY)\n",
    "    labels_his.append(0)\n",
    "\n",
    "pos_his_features = np.array(pos_his_features)\n",
    "neg_his_features = np.array(neg_his_features)\n",
    "x_train_his = np.vstack((pos_his_features, neg_his_features))\n",
    "y_train_his = np.array(labels_his)\n",
    "\n",
    "#x_train_his = reshape_data(x_train_his)\n",
    "print('Train shape histograms: ', x_train_his.shape, y_train_his.shape)"
   ]
  },
  {
   "cell_type": "markdown",
   "metadata": {},
   "source": [
    "# Test skup histogrami"
   ]
  },
  {
   "cell_type": "code",
   "execution_count": 20,
   "metadata": {},
   "outputs": [
    {
     "name": "stdout",
     "output_type": "stream",
     "text": [
      "Test shape histograms:  (16, 100) (16,)\n"
     ]
    },
    {
     "name": "stderr",
     "output_type": "stream",
     "text": [
      "E:\\Anaconda\\lib\\site-packages\\skimage\\transform\\_warps.py:84: UserWarning: The default mode, 'constant', will be changed to 'reflect' in skimage 0.15.\n",
      "  warn(\"The default mode, 'constant', will be changed to 'reflect' in \"\n"
     ]
    }
   ],
   "source": [
    "pos_his_features_test = []\n",
    "neg_his_features_test = []\n",
    "labels_his_test = []\n",
    "\n",
    "for img in dme_imgs_test:\n",
    "    img = resize_imageX(img, 50)\n",
    "    img = image_gray(img)\n",
    "    img_bin = image_bin_histogram(img)\n",
    "    \n",
    "    sumX = np.sum(img_bin, axis=0)\n",
    "    sumY = np.sum(img_bin, axis=1)\n",
    "    sumXY = np.concatenate((sumX, sumY))\n",
    "    \n",
    "    pos_his_features_test.append(sumXY)\n",
    "    labels_his_test.append(1)\n",
    "\n",
    "for img in nor_imgs_test:\n",
    "    img = resize_imageX(img, 50)\n",
    "    img = image_gray(img)\n",
    "    img_bin = image_bin_histogram(img)\n",
    "    \n",
    "    sumX = np.sum(img_bin, axis=0)\n",
    "    sumY = np.sum(img_bin, axis=1)\n",
    "    sumXY = np.concatenate((sumX, sumY))\n",
    "    \n",
    "    neg_his_features_test.append(sumXY)\n",
    "    labels_his_test.append(0)\n",
    "\n",
    "pos_his_features_test = np.array(pos_his_features_test)\n",
    "neg_his_features_test = np.array(neg_his_features_test)\n",
    "x_test_his = np.vstack((pos_his_features_test, neg_his_features_test))\n",
    "y_test_his = np.array(labels_his_test)\n",
    "\n",
    "#x_test_his = reshape_data(x_test_his)\n",
    "print('Test shape histograms: ', x_test_his.shape, y_test_his.shape)"
   ]
  },
  {
   "cell_type": "markdown",
   "metadata": {},
   "source": [
    "# Histogrami SVM"
   ]
  },
  {
   "cell_type": "code",
   "execution_count": 25,
   "metadata": {},
   "outputs": [
    {
     "name": "stdout",
     "output_type": "stream",
     "text": [
      "Train accuracy histograms+SVM:  0.6079545454545454\n",
      "Validation accuracy hisrograms+SVM:  0.5\n"
     ]
    }
   ],
   "source": [
    "clf_svm_his = SVC(kernel='linear', probability=True) \n",
    "clf_svm_his.fit(x_train_his, y_train_his)\n",
    "y_train_pred_his = clf_svm_his.predict(x_train_his)\n",
    "y_test_pred_his = clf_svm_his.predict(x_test_his)\n",
    "print(\"Train accuracy histograms+SVM: \", accuracy_score(y_train_his, y_train_pred_his))\n",
    "print(\"Validation accuracy hisrograms+SVM: \", accuracy_score(y_test_his, y_test_pred_his))"
   ]
  },
  {
   "cell_type": "markdown",
   "metadata": {},
   "source": [
    "# Histogrami KNN"
   ]
  },
  {
   "cell_type": "code",
   "execution_count": 21,
   "metadata": {},
   "outputs": [
    {
     "name": "stdout",
     "output_type": "stream",
     "text": [
      "Train accuracy histograms+KNN:  0.6069214876033058\n",
      "Validation accuracy histograms+KNN:  0.75\n"
     ]
    }
   ],
   "source": [
    "clf_knn_his = KNeighborsClassifier(n_neighbors=17)\n",
    "clf_knn_his = clf_knn_his.fit(x_train_his, y_train_his)\n",
    "y_train_pred_his = clf_knn_his.predict(x_train_his)\n",
    "y_test_pred_his = clf_knn_his.predict(x_test_his)\n",
    "print(\"Train accuracy histograms+KNN: \", accuracy_score(y_train_his, y_train_pred_his))\n",
    "print(\"Validation accuracy histograms+KNN: \", accuracy_score(y_test_his, y_test_pred_his))"
   ]
  },
  {
   "cell_type": "markdown",
   "metadata": {},
   "source": [
    "# Histogrami RF"
   ]
  },
  {
   "cell_type": "code",
   "execution_count": 22,
   "metadata": {},
   "outputs": [
    {
     "name": "stdout",
     "output_type": "stream",
     "text": [
      "Train accuracy histograms+RF:  0.7308884297520661\n",
      "Validation accuracy histograms+RF:  0.8125\n"
     ]
    }
   ],
   "source": [
    "clf_rf_his = RandomForestClassifier(n_estimators=15)\n",
    "clf_rf_his = clf_rf_his.fit(x_train_his, y_train_his)\n",
    "y_train_pred_his = clf_rf_his.predict(x_train_his)\n",
    "y_test_pred_his = clf_rf_his.predict(x_test_his)\n",
    "print(\"Train accuracy histograms+RF: \", accuracy_score(y_train_his, y_train_pred_his))\n",
    "print(\"Validation accuracy histograms+RF: \", accuracy_score(y_test_his, y_test_pred_his))\n",
    " "
   ]
  },
  {
   "cell_type": "markdown",
   "metadata": {},
   "source": [
    "# isprobavanje"
   ]
  },
  {
   "cell_type": "code",
   "execution_count": 38,
   "metadata": {
    "scrolled": false
   },
   "outputs": [
    {
     "data": {
      "image/png": "[encoded data removed]",
      "text/plain": [
       "<Figure size 432x288 with 1 Axes>"
      ]
     },
     "metadata": {},
     "output_type": "display_data"
    }
   ],
   "source": [
    "proba = load_image('images/TRAIN/NORMAL/NORMAL-1081406-1.jpeg')\n",
    "#proba2 = image_bin(image_gray(proba))\n",
    "proba = proba[:, 6:490]\n",
    "display_image(proba)\n",
    "#hog.compute(img)\n",
    "#display_image(proba)\n",
    "#proba = proba.astype(np.uint8)\n",
    "#display_image(proba)\n",
    "\n",
    "#resized = resize_image(proba)\n",
    "#display_image(resized)\n",
    "\n",
    "#rotated = random_rotation(proba)\n",
    "#rotated = rotated.astype(np.uint8)\n",
    "#hog.compute(rotated)\n",
    "#display_image(rotated)\n",
    "\n",
    "#brightness = increase_brightness(proba)\n",
    "#hog.compute(brightness)\n",
    "#display_image(brightness)"
   ]
  },
  {
   "cell_type": "code",
   "execution_count": 53,
   "metadata": {
    "scrolled": false
   },
   "outputs": [
    {
     "name": "stdout",
     "output_type": "stream",
     "text": [
      "0 69 480 427\n",
      "visina:  282.5\n",
      "shape[0]:  496\n"
     ]
    },
    {
     "data": {
      "image/png": "[encoded data removed]",
      "text/plain": [
       "<Figure size 432x288 with 1 Axes>"
      ]
     },
     "metadata": {},
     "output_type": "display_data"
    }
   ],
   "source": [
    "proba = load_image('images/TRAIN/NORMAL/NORMAL-446851-1.jpeg')\n",
    "#display_image(proba)\n",
    "#print(proba[0:40, :])\n",
    "if proba.shape[1] != 512:\n",
    "    proba = proba[:,128:640]\n",
    "proba = proba[:, 10:490]\n",
    "img = (image_bin(image_gray(proba)))\n",
    "proba2, contours, hierarchy = cv2.findContours(img.copy(), cv2.RETR_LIST, cv2.CHAIN_APPROX_SIMPLE)\n",
    "c = max(contours, key = cv2.contourArea)\n",
    "\n",
    "x,y,w,h = cv2.boundingRect(c) #koordinate i velicina granicnog pravougaonika\n",
    "print(x, y, w, h)\n",
    "visina = y + h/2\n",
    "print('visina: ', visina)\n",
    "print('shape[0]: ', proba.shape[0])\n",
    "\n",
    "if (visina > 0 and visina < 60) or (visina > 400 and visina < 496) :\n",
    "    cv2.drawContours(proba,[c],0,(255,0,0),7)\n",
    "    #cv2.fillPoly(img, pts =[c], color=(0,0,0))\n",
    "elif (h == proba.shape[0]):\n",
    "    cv2.drawContours(proba,[c],0,(0,0,255),7)\n",
    "elif (h > proba.shape[0] / 2):\n",
    "    cv2.drawContours(proba,[c],0,(0,0,255),7)\n",
    "elif (x == 0 and y == 0):\n",
    "    cv2.drawContours(proba,[c],0,(255,255,0),7)\n",
    "else:\n",
    "    cv2.drawContours(proba,[c],0,(0,255,0),7)\n",
    "\n",
    "#if (visina > 0 and visina < 60) or (visina > 400 and visina < 496) :\n",
    "#cv2.fillPoly(proba, pts =[c], color=(0,0,0))\n",
    "    #cv2.drawContours(proba,[c],0,(255,0,0),10)\n",
    "display_image(proba)\n",
    "#new_file_path = 'images/TRAIN/DME/DME-5912153-1.jpeg'\n",
    "#io.imsave(new_file_path, proba)"
   ]
  },
  {
   "cell_type": "code",
   "execution_count": 18,
   "metadata": {},
   "outputs": [
    {
     "data": {
      "image/png": "[encoded data removed]",
      "text/plain": [
       "<Figure size 432x288 with 1 Axes>"
      ]
     },
     "metadata": {},
     "output_type": "display_data"
    },
    {
     "data": {
      "image/png": "[encoded data removed]",
      "text/plain": [
       "<Figure size 432x288 with 1 Axes>"
      ]
     },
     "metadata": {},
     "output_type": "display_data"
    },
    {
     "data": {
      "image/png": "[encoded data removed]",
      "text/plain": [
       "<Figure size 432x288 with 1 Axes>"
      ]
     },
     "metadata": {},
     "output_type": "display_data"
    },
    {
     "name": "stdout",
     "output_type": "stream",
     "text": [
      "[257 130 130 130 130 130 130 130 130 130 130 130 130 130 130 130 130 130\n",
      " 130 130 130 130 130 130 130 130 130 130 130 130 130 130 130 130 130 130\n",
      " 130 130 130 130 130 130 130 130 130 130 130 130 130 130 130 130 130 130\n",
      " 130 130 130 130 130 130 130 130 130 130 130 130 130 130 130 130 130 130\n",
      " 130 130 130 130 130 130 130 130 130 130 130 130 130 130 130 130 130 130\n",
      " 130 130 130 130 130 130 130 130 130 130 130 130 130 130 130 130 130 130\n",
      " 130 130 130 130 130 130 130 130 130 130 130 130 130 130 130 130 130 130\n",
      " 130 130 130   2   2   2   2   2   2   2   2   2   2   2   2   2   2   2\n",
      "   2   2   2   2   2   2   2   2   2   2   2   2   2   2   2   2   2   2\n",
      "   2   2   2   2   2   2   2   2   2   2   2   2   2   2   2   2   2   2\n",
      "   2   2   2   2   2   2   2   2   2   2   2   2   2   2   2   2   2   2\n",
      "   2   2   2   2   2   2   2   2   2   2   2   2   2   2   2   2   2   2\n",
      "   2   2   2   2   2   2   2   2   2   2   2   2   2   2   2   2   2   2\n",
      "   2   2   2   2   2   2   2   2   2   2   2   2   2   2   2   2   2   2\n",
      "   2   2   2   2   2 257 257 129 129 129 129 129 129 129 129 129 129 129\n",
      " 129 129 129 129 129 129 129 129 129 129 129 129 129 129 129 129 129 129\n",
      " 129 129 129 129 129 129 129 129 129 129 129 129 129 129 129 129 129 129\n",
      " 129 129 129 129 129 129 129 129 129 129 129 129 129 129 129 129 129 129\n",
      " 129 129 129 129 129 129 129 129 129 129 129 129 129 129 129 129 129 129\n",
      " 129 129 129 129 129 129 129 129 129 129 129 129 129 129 129 129 129 129\n",
      " 129 129 129 129 129 129 129 129 129 129 129 129 129 129 129 129 129 129\n",
      " 129 129 129 129 129 129 129 129 129   1   1   1   1   1   1   1   1   1\n",
      "   1   1   1   1   1   1   1   1   1   1   1   1   1   1   1   1   1   1\n",
      "   1   1   1   1   1   1   1   1   1   1   1   1   1   1   1   1   1   1\n",
      "   1   1   1   1   1   1   1   1   1   1   1   1   1   1   1   1   1   1\n",
      "   1   1   1   1   1   1   1   1   1   1   1   1   1   1   1   1   1   1\n",
      "   1   1   1   1   1   1   1   1   1   1   1   1   1   1   1   1   1   1\n",
      "   1   1   1   1   1   1   1   1   1   1   1   1   1   1   1   1   1   1\n",
      "   1   1   1   1   1   1   1   1   1   1]\n"
     ]
    }
   ],
   "source": [
    "#img = load_image('images/TRAIN/DME/DME-30521-13.jpeg')\n",
    "img = load_image('images/proba2.png')\n",
    "#plt.figure()\n",
    "#display_image(img)\n",
    "img= image_gray(img)\n",
    "\n",
    "img_bin = image_bin_histogram(img)\n",
    "#plt.figure()\n",
    "#plt.imshow(img_bin, 'gray')\n",
    "#print(img_bin)\n",
    "\n",
    "sumX = np.sum(img_bin, axis=0)\n",
    "#print(sumX)\n",
    "plt.plot(sumX)\n",
    "plt.show()\n",
    "sumY = np.sum(img_bin, axis=1)\n",
    "#print(sumY)\n",
    "plt.plot(sumY)\n",
    "plt.show()\n",
    "sumXY = np.concatenate((sumX, sumY))\n",
    "plt.plot(sumXY)\n",
    "plt.show()\n",
    "print(sumXY)"
   ]
  },
  {
   "cell_type": "code",
   "execution_count": 44,
   "metadata": {},
   "outputs": [
    {
     "data": {
      "text/plain": [
       "<matplotlib.image.AxesImage at 0x12d94bede48>"
      ]
     },
     "execution_count": 44,
     "metadata": {},
     "output_type": "execute_result"
    },
    {
     "data": {
      "image/png": "[encoded data removed]",
      "text/plain": [
       "<Figure size 432x288 with 1 Axes>"
      ]
     },
     "metadata": {},
     "output_type": "display_data"
    }
   ],
   "source": [
    "img = load_image('images/TRAIN/NORMAL/NORMAL-12494-4.jpeg')\n",
    "img= image_gray(img)\n",
    "\n",
    "img_bin = image_bin_histogram(img)\n",
    "plt.imshow(img_bin, 'gray')"
   ]
  }
 ],
 "metadata": {
  "kernelspec": {
   "display_name": "Python 3",
   "language": "python",
   "name": "python3"
  },
  "language_info": {
   "codemirror_mode": {
    "name": "ipython",
    "version": 3
   },
   "file_extension": ".py",
   "mimetype": "text/x-python",
   "name": "python",
   "nbconvert_exporter": "python",
   "pygments_lexer": "ipython3",
   "version": "3.6.5"
  }
 },
 "nbformat": 4,
 "nbformat_minor": 2
}
